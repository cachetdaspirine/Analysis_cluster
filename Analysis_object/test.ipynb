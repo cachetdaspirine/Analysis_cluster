{
 "cells": [
  {
   "cell_type": "code",
   "execution_count": 1,
   "metadata": {},
   "outputs": [],
   "source": [
    "import Simulate as Sim\n",
    "import numpy as np\n",
    "import sys\n",
    "sys.path.append('/home/hcleroy/PostDoc/aging_condensates/Simulation/Aging_Condensate/Gillespie_backend')\n",
    "import Gillespie_backend as Gil\n",
    "from multiprocessing import Pool"
   ]
  },
  {
   "cell_type": "code",
   "execution_count": 2,
   "metadata": {},
   "outputs": [],
   "source": [
    "class Simulation(Sim.ParallelSimulation):\n",
    "    def __init__(self,gillespie_param,simulation_param,cpu_param):\n",
    "        super().__init__(gillespie_param,simulation_param,cpu_param)\n",
    "        self.R = dict()\n",
    "    def extract_parameter(self, gillespie, moves, time,step,name):\n",
    "        return {name+\"_\"+str(step):gillespie.get_R()}\n",
    "    def unpack_res(self, res):\n",
    "        return res"
   ]
  },
  {
   "cell_type": "code",
   "execution_count": 3,
   "metadata": {},
   "outputs": [],
   "source": [
    "gillespie_params =  {'ell_tot':100,'rho0':0.,'BindingEnergy':-1.,'kdiff':1.,'seed':[np.random.randint(0,10000) for _ in range(10)],'sliding':False,'Nlinker':2,'old_gillespie':None,'dimension':3}\n",
    "simulation_param = {'step_tot' : 100, 'dump_step':100}\n",
    "cpu_param = {'Nnodes':10}"
   ]
  },
  {
   "cell_type": "code",
   "execution_count": 4,
   "metadata": {},
   "outputs": [],
   "source": [
    "sim = Simulation(gillespie_params,simulation_param,cpu_param)"
   ]
  },
  {
   "cell_type": "code",
   "execution_count": 5,
   "metadata": {},
   "outputs": [
    {
     "data": {
      "text/plain": [
       "[{'3555_100': array([[0., 0., 0.]])},\n",
       " {'9416_100': array([[0., 0., 0.]])},\n",
       " {'2012_100': array([[0., 0., 0.]])},\n",
       " {'5234_100': array([[0., 0., 0.]])},\n",
       " {'8760_100': array([[0., 0., 0.]])},\n",
       " {'6344_100': array([[0., 0., 0.]])},\n",
       " {'8676_100': array([[0., 0., 0.]])},\n",
       " {'450_100': array([[0., 0., 0.]])},\n",
       " {'8209_100': array([[0., 0., 0.]])},\n",
       " {'3967_100': array([[0., 0., 0.]])}]"
      ]
     },
     "execution_count": 5,
     "metadata": {},
     "output_type": "execute_result"
    }
   ],
   "source": [
    "sim.Parallel_Run()"
   ]
  },
  {
   "cell_type": "code",
   "execution_count": null,
   "metadata": {},
   "outputs": [],
   "source": []
  }
 ],
 "metadata": {
  "kernelspec": {
   "display_name": "base",
   "language": "python",
   "name": "python3"
  },
  "language_info": {
   "codemirror_mode": {
    "name": "ipython",
    "version": 3
   },
   "file_extension": ".py",
   "mimetype": "text/x-python",
   "name": "python",
   "nbconvert_exporter": "python",
   "pygments_lexer": "ipython3",
   "version": "3.8.8"
  },
  "orig_nbformat": 4
 },
 "nbformat": 4,
 "nbformat_minor": 2
}
